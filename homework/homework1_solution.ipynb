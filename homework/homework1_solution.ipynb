{
 "cells": [
  {
   "cell_type": "code",
   "id": "initial_id",
   "metadata": {
    "collapsed": true,
    "ExecuteTime": {
     "end_time": "2025-09-02T22:39:16.360143Z",
     "start_time": "2025-09-02T22:39:16.351922Z"
    }
   },
   "source": "import numpy as np",
   "outputs": [],
   "execution_count": 9
  },
  {
   "metadata": {
    "ExecuteTime": {
     "end_time": "2025-09-02T22:47:45.044259Z",
     "start_time": "2025-09-02T22:47:45.036953Z"
    }
   },
   "cell_type": "code",
   "source": [
    "# HW1.7 Solution\n",
    "scores = np.array([85, 92, 78, 88, 95, 80, 75, 90, 82, 98, 65, 99, 74, 55, 70, 82, 80, 91, 100, 76])\n",
    "print(np.sort(scores))"
   ],
   "id": "f3a360ae4e4fe173",
   "outputs": [
    {
     "name": "stdout",
     "output_type": "stream",
     "text": [
      "[ 55  65  70  74  75  76  78  80  80  82  82  85  88  90  91  92  95  98\n",
      "  99 100]\n"
     ]
    }
   ],
   "execution_count": 17
  },
  {
   "metadata": {
    "ExecuteTime": {
     "end_time": "2025-09-02T22:39:16.373527Z",
     "start_time": "2025-09-02T22:39:16.367199Z"
    }
   },
   "cell_type": "code",
   "source": [
    "# Compute mean, variance, and standard deviation\n",
    "mean_score = np.mean(scores)\n",
    "variance_score = np.var(scores, ddof=1)\n",
    "std_dev_score = np.std(scores, ddof=1)\n",
    "print(\"Mean:\", mean_score)\n",
    "print(\"Variance:\", variance_score)\n",
    "print(\"Standard Deviation:\", std_dev_score)"
   ],
   "id": "3b392b035fe0dfa0",
   "outputs": [
    {
     "name": "stdout",
     "output_type": "stream",
     "text": [
      "Mean: 82.75\n",
      "Variance: 139.56578947368422\n",
      "Standard Deviation: 11.813796573230988\n"
     ]
    }
   ],
   "execution_count": 11
  },
  {
   "metadata": {
    "ExecuteTime": {
     "end_time": "2025-09-02T22:39:16.377389Z",
     "start_time": "2025-09-02T22:39:16.374865Z"
    }
   },
   "cell_type": "code",
   "source": [
    "# Median score\n",
    "median_score = np.median(scores)\n",
    "print(\"Median:\", median_score)"
   ],
   "id": "1e8e8ac960c305b6",
   "outputs": [
    {
     "name": "stdout",
     "output_type": "stream",
     "text": [
      "Median: 82.0\n"
     ]
    }
   ],
   "execution_count": 12
  },
  {
   "metadata": {
    "ExecuteTime": {
     "end_time": "2025-09-02T22:39:16.380146Z",
     "start_time": "2025-09-02T22:39:16.377927Z"
    }
   },
   "cell_type": "code",
   "source": [
    "added_scores = scores = np.array([85, 92, 78, 88, 95, 80, 75, 90, 82, 98, 65, 99, 74, 55, 70, 82, 80, 91, 100, 76, 78])\n",
    "median_added_score = np.median(added_scores)\n",
    "mean_added_score = np.mean(added_scores)\n",
    "std_added_score = np.std(added_scores, ddof=1)\n",
    "print(\"New Median:\", median_added_score)\n",
    "print(\"New Mean:\", mean_added_score)\n",
    "print(\"New Standard Deviation:\", std_added_score)"
   ],
   "id": "9dedae672c3e26d9",
   "outputs": [
    {
     "name": "stdout",
     "output_type": "stream",
     "text": [
      "New Median: 82.0\n",
      "New Mean: 82.52380952380952\n",
      "New Standard Deviation: 11.561224189587572\n"
     ]
    }
   ],
   "execution_count": 13
  },
  {
   "metadata": {
    "ExecuteTime": {
     "end_time": "2025-09-02T22:51:14.852326Z",
     "start_time": "2025-09-02T22:51:14.790815Z"
    }
   },
   "cell_type": "code",
   "source": [
    "# Histogram of original scores with bin size of 10\n",
    "import matplotlib.pyplot as plt\n",
    "eps = 1e-8\n",
    "plt.hist(scores - eps, bins=np.arange(50., 110., 10.), edgecolor='black')\n",
    "plt.title('Histogram of Scores')\n",
    "plt.xlabel('Score Ranges')\n",
    "plt.ylabel('Number of Students')\n",
    "plt.xticks(np.arange(50, 110, 10))\n",
    "plt.show()"
   ],
   "id": "614897ae183de5b1",
   "outputs": [
    {
     "data": {
      "text/plain": [
       "<Figure size 640x480 with 1 Axes>"
      ],
      "image/png": "[encoded data removed]"
     },
     "metadata": {},
     "output_type": "display_data"
    }
   ],
   "execution_count": 22
  },
  {
   "metadata": {
    "ExecuteTime": {
     "end_time": "2025-09-02T22:51:35.507386Z",
     "start_time": "2025-09-02T22:51:35.505312Z"
    }
   },
   "cell_type": "code",
   "source": "",
   "id": "5071e038de7f9089",
   "outputs": [],
   "execution_count": 22
  },
  {
   "metadata": {},
   "cell_type": "code",
   "outputs": [],
   "execution_count": null,
   "source": "",
   "id": "1aac6d6db8e601da"
  }
 ],
 "metadata": {
  "kernelspec": {
   "display_name": "Python 3",
   "language": "python",
   "name": "python3"
  },
  "language_info": {
   "codemirror_mode": {
    "name": "ipython",
    "version": 2
   },
   "file_extension": ".py",
   "mimetype": "text/x-python",
   "name": "python",
   "nbconvert_exporter": "python",
   "pygments_lexer": "ipython2",
   "version": "2.7.6"
  }
 },
 "nbformat": 4,
 "nbformat_minor": 5
}
