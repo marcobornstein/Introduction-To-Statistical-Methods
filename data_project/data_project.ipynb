{
 "cells": [
  {
   "cell_type": "code",
   "id": "initial_id",
   "metadata": {
    "collapsed": true,
    "ExecuteTime": {
     "end_time": "2025-08-23T21:44:12.536060Z",
     "start_time": "2025-08-23T21:44:12.533067Z"
    }
   },
   "source": [
    "import pandas as pd\n",
    "import matplotlib.pyplot as plt\n",
    "import numpy as np"
   ],
   "outputs": [],
   "execution_count": 19
  },
  {
   "metadata": {
    "ExecuteTime": {
     "end_time": "2025-08-23T21:44:12.548084Z",
     "start_time": "2025-08-23T21:44:12.537939Z"
    }
   },
   "cell_type": "code",
   "source": [
    "nba_df = pd.read_csv('data/2023_nba_player_stats.csv')\n",
    "bells_df = pd.read_csv('data/bells_palsy_trial.csv')\n",
    "walmart_df = pd.read_csv('data/walmart_sales.csv')"
   ],
   "id": "f35186b4b526948c",
   "outputs": [],
   "execution_count": 20
  },
  {
   "metadata": {
    "ExecuteTime": {
     "end_time": "2025-08-23T21:44:20.123780Z",
     "start_time": "2025-08-23T21:44:20.118069Z"
    }
   },
   "cell_type": "code",
   "source": [
    "print(f'NBA Data Matrix Size: {nba_df.shape}')\n",
    "print(f'Bells Palsy Data Matrix Size: {bells_df.shape}')\n",
    "print(f'Walmart Data Matrix Size: {walmart_df.shape}')"
   ],
   "id": "7e5cb819048101b5",
   "outputs": [
    {
     "name": "stdout",
     "output_type": "stream",
     "text": [
      "NBA Data Matrix Size: (539, 30)\n",
      "Bells Palsy Data Matrix Size: (494, 12)\n",
      "Walmart Data Matrix Size: (6435, 8)\n"
     ]
    }
   ],
   "execution_count": 22
  },
  {
   "metadata": {
    "ExecuteTime": {
     "end_time": "2025-08-23T21:44:52.122912Z",
     "start_time": "2025-08-23T21:44:52.115481Z"
    }
   },
   "cell_type": "code",
   "source": "bells_df.head()",
   "id": "38a04c83b06350b4",
   "outputs": [
    {
     "data": {
      "text/plain": [
       "   Patient ID     Sex  Age  Baseline Score on House–Brackmann scale  \\\n",
       "0           1  Female   77                                        6   \n",
       "1           2  Female   61                                        6   \n",
       "2           3  Female   46                                        4   \n",
       "3           4  Female   46                                        3   \n",
       "4           5  Female   42                                        3   \n",
       "\n",
       "  Time between onset of symptoms and start of treatment       Treatment Group  \\\n",
       "0                                       Within 24 hr     Prednisolone–Placebo   \n",
       "1                                       Within 24 hr     Prednisolone–Placebo   \n",
       "2                                      >24 to ≤48 hr     Prednisolone–Placebo   \n",
       "3                                       Within 24 hr     Prednisolone–Placebo   \n",
       "4                                      >24 to ≤48 hr     Prednisolone–Placebo   \n",
       "\n",
       "  Received Prednisolone Received Acyclovir  \\\n",
       "0                   Yes                 No   \n",
       "1                   Yes                 No   \n",
       "2                   Yes                 No   \n",
       "3                   Yes                 No   \n",
       "4                   Yes                 No   \n",
       "\n",
       "   3-Month Score on House–Brackmann scale Full Recovery in 3 Months  \\\n",
       "0                                       2                        No   \n",
       "1                                       1                       Yes   \n",
       "2                                       1                       Yes   \n",
       "3                                       1                       Yes   \n",
       "4                                       1                       Yes   \n",
       "\n",
       "   9-Month Score on House–Brackmann scale Full Recovery in 9 Months  \n",
       "0                                       2                        No  \n",
       "1                                       1                       Yes  \n",
       "2                                       1                       Yes  \n",
       "3                                       1                       Yes  \n",
       "4                                       1                       Yes  "
      ],
      "text/html": [
       "<div>\n",
       "<style scoped>\n",
       "    .dataframe tbody tr th:only-of-type {\n",
       "        vertical-align: middle;\n",
       "    }\n",
       "\n",
       "    .dataframe tbody tr th {\n",
       "        vertical-align: top;\n",
       "    }\n",
       "\n",
       "    .dataframe thead th {\n",
       "        text-align: right;\n",
       "    }\n",
       "</style>\n",
       "<table border=\"1\" class=\"dataframe\">\n",
       "  <thead>\n",
       "    <tr style=\"text-align: right;\">\n",
       "      <th></th>\n",
       "      <th>Patient ID</th>\n",
       "      <th>Sex</th>\n",
       "      <th>Age</th>\n",
       "      <th>Baseline Score on House–Brackmann scale</th>\n",
       "      <th>Time between onset of symptoms and start of treatment</th>\n",
       "      <th>Treatment Group</th>\n",
       "      <th>Received Prednisolone</th>\n",
       "      <th>Received Acyclovir</th>\n",
       "      <th>3-Month Score on House–Brackmann scale</th>\n",
       "      <th>Full Recovery in 3 Months</th>\n",
       "      <th>9-Month Score on House–Brackmann scale</th>\n",
       "      <th>Full Recovery in 9 Months</th>\n",
       "    </tr>\n",
       "  </thead>\n",
       "  <tbody>\n",
       "    <tr>\n",
       "      <th>0</th>\n",
       "      <td>1</td>\n",
       "      <td>Female</td>\n",
       "      <td>77</td>\n",
       "      <td>6</td>\n",
       "      <td>Within 24 hr</td>\n",
       "      <td>Prednisolone–Placebo</td>\n",
       "      <td>Yes</td>\n",
       "      <td>No</td>\n",
       "      <td>2</td>\n",
       "      <td>No</td>\n",
       "      <td>2</td>\n",
       "      <td>No</td>\n",
       "    </tr>\n",
       "    <tr>\n",
       "      <th>1</th>\n",
       "      <td>2</td>\n",
       "      <td>Female</td>\n",
       "      <td>61</td>\n",
       "      <td>6</td>\n",
       "      <td>Within 24 hr</td>\n",
       "      <td>Prednisolone–Placebo</td>\n",
       "      <td>Yes</td>\n",
       "      <td>No</td>\n",
       "      <td>1</td>\n",
       "      <td>Yes</td>\n",
       "      <td>1</td>\n",
       "      <td>Yes</td>\n",
       "    </tr>\n",
       "    <tr>\n",
       "      <th>2</th>\n",
       "      <td>3</td>\n",
       "      <td>Female</td>\n",
       "      <td>46</td>\n",
       "      <td>4</td>\n",
       "      <td>&gt;24 to ≤48 hr</td>\n",
       "      <td>Prednisolone–Placebo</td>\n",
       "      <td>Yes</td>\n",
       "      <td>No</td>\n",
       "      <td>1</td>\n",
       "      <td>Yes</td>\n",
       "      <td>1</td>\n",
       "      <td>Yes</td>\n",
       "    </tr>\n",
       "    <tr>\n",
       "      <th>3</th>\n",
       "      <td>4</td>\n",
       "      <td>Female</td>\n",
       "      <td>46</td>\n",
       "      <td>3</td>\n",
       "      <td>Within 24 hr</td>\n",
       "      <td>Prednisolone–Placebo</td>\n",
       "      <td>Yes</td>\n",
       "      <td>No</td>\n",
       "      <td>1</td>\n",
       "      <td>Yes</td>\n",
       "      <td>1</td>\n",
       "      <td>Yes</td>\n",
       "    </tr>\n",
       "    <tr>\n",
       "      <th>4</th>\n",
       "      <td>5</td>\n",
       "      <td>Female</td>\n",
       "      <td>42</td>\n",
       "      <td>3</td>\n",
       "      <td>&gt;24 to ≤48 hr</td>\n",
       "      <td>Prednisolone–Placebo</td>\n",
       "      <td>Yes</td>\n",
       "      <td>No</td>\n",
       "      <td>1</td>\n",
       "      <td>Yes</td>\n",
       "      <td>1</td>\n",
       "      <td>Yes</td>\n",
       "    </tr>\n",
       "  </tbody>\n",
       "</table>\n",
       "</div>"
      ]
     },
     "execution_count": 24,
     "metadata": {},
     "output_type": "execute_result"
    }
   ],
   "execution_count": 24
  },
  {
   "metadata": {},
   "cell_type": "code",
   "outputs": [],
   "execution_count": null,
   "source": "",
   "id": "7c53a75aa62d16ac"
  }
 ],
 "metadata": {
  "kernelspec": {
   "display_name": "Python 3",
   "language": "python",
   "name": "python3"
  },
  "language_info": {
   "codemirror_mode": {
    "name": "ipython",
    "version": 2
   },
   "file_extension": ".py",
   "mimetype": "text/x-python",
   "name": "python",
   "nbconvert_exporter": "python",
   "pygments_lexer": "ipython2",
   "version": "2.7.6"
  }
 },
 "nbformat": 4,
 "nbformat_minor": 5
}
